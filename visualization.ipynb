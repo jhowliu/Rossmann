{
 "cells": [
  {
   "cell_type": "code",
   "execution_count": 1,
   "metadata": {
    "collapsed": true
   },
   "outputs": [],
   "source": [
    "import pandas as pd\n",
    "import numpy as np\n",
    "import matplotlib.pyplot as plt"
   ]
  },
  {
   "cell_type": "code",
   "execution_count": 9,
   "metadata": {
    "collapsed": false
   },
   "outputs": [],
   "source": [
    "train = pd.read_csv('data/train.csv.gz', compression='gzip', dtype='object')\n",
    "store = pd.read_csv('data/store.csv.gz', compression='gzip', dtype='object')\n",
    "test  = pd.read_csv('data/test.csv.gz' , compression='gzip', dtype='object')"
   ]
  },
  {
   "cell_type": "code",
   "execution_count": 7,
   "metadata": {
    "collapsed": false
   },
   "outputs": [
    {
     "data": {
      "text/html": [
       "<div style=\"max-height:1000px;max-width:1500px;overflow:auto;\">\n",
       "<table border=\"1\" class=\"dataframe\">\n",
       "  <thead>\n",
       "    <tr style=\"text-align: right;\">\n",
       "      <th></th>\n",
       "      <th>Store</th>\n",
       "      <th>DayOfWeek</th>\n",
       "      <th>Date</th>\n",
       "      <th>Sales</th>\n",
       "      <th>Customers</th>\n",
       "      <th>Open</th>\n",
       "      <th>Promo</th>\n",
       "      <th>StateHoliday</th>\n",
       "      <th>SchoolHoliday</th>\n",
       "    </tr>\n",
       "  </thead>\n",
       "  <tbody>\n",
       "    <tr>\n",
       "      <th>0</th>\n",
       "      <td> 1</td>\n",
       "      <td> 5</td>\n",
       "      <td> 2015-07-31</td>\n",
       "      <td>  5263</td>\n",
       "      <td>  555</td>\n",
       "      <td> 1</td>\n",
       "      <td> 1</td>\n",
       "      <td> 0</td>\n",
       "      <td> 1</td>\n",
       "    </tr>\n",
       "    <tr>\n",
       "      <th>1</th>\n",
       "      <td> 2</td>\n",
       "      <td> 5</td>\n",
       "      <td> 2015-07-31</td>\n",
       "      <td>  6064</td>\n",
       "      <td>  625</td>\n",
       "      <td> 1</td>\n",
       "      <td> 1</td>\n",
       "      <td> 0</td>\n",
       "      <td> 1</td>\n",
       "    </tr>\n",
       "    <tr>\n",
       "      <th>2</th>\n",
       "      <td> 3</td>\n",
       "      <td> 5</td>\n",
       "      <td> 2015-07-31</td>\n",
       "      <td>  8314</td>\n",
       "      <td>  821</td>\n",
       "      <td> 1</td>\n",
       "      <td> 1</td>\n",
       "      <td> 0</td>\n",
       "      <td> 1</td>\n",
       "    </tr>\n",
       "    <tr>\n",
       "      <th>3</th>\n",
       "      <td> 4</td>\n",
       "      <td> 5</td>\n",
       "      <td> 2015-07-31</td>\n",
       "      <td> 13995</td>\n",
       "      <td> 1498</td>\n",
       "      <td> 1</td>\n",
       "      <td> 1</td>\n",
       "      <td> 0</td>\n",
       "      <td> 1</td>\n",
       "    </tr>\n",
       "    <tr>\n",
       "      <th>4</th>\n",
       "      <td> 5</td>\n",
       "      <td> 5</td>\n",
       "      <td> 2015-07-31</td>\n",
       "      <td>  4822</td>\n",
       "      <td>  559</td>\n",
       "      <td> 1</td>\n",
       "      <td> 1</td>\n",
       "      <td> 0</td>\n",
       "      <td> 1</td>\n",
       "    </tr>\n",
       "  </tbody>\n",
       "</table>\n",
       "</div>"
      ],
      "text/plain": [
       "  Store DayOfWeek        Date  Sales Customers Open Promo StateHoliday  \\\n",
       "0     1         5  2015-07-31   5263       555    1     1            0   \n",
       "1     2         5  2015-07-31   6064       625    1     1            0   \n",
       "2     3         5  2015-07-31   8314       821    1     1            0   \n",
       "3     4         5  2015-07-31  13995      1498    1     1            0   \n",
       "4     5         5  2015-07-31   4822       559    1     1            0   \n",
       "\n",
       "  SchoolHoliday  \n",
       "0             1  \n",
       "1             1  \n",
       "2             1  \n",
       "3             1  \n",
       "4             1  "
      ]
     },
     "execution_count": 7,
     "metadata": {},
     "output_type": "execute_result"
    }
   ],
   "source": [
    "train.head()"
   ]
  },
  {
   "cell_type": "code",
   "execution_count": 10,
   "metadata": {
    "collapsed": false,
    "scrolled": false
   },
   "outputs": [
    {
     "data": {
      "text/html": [
       "<div style=\"max-height:1000px;max-width:1500px;overflow:auto;\">\n",
       "<table border=\"1\" class=\"dataframe\">\n",
       "  <thead>\n",
       "    <tr style=\"text-align: right;\">\n",
       "      <th></th>\n",
       "      <th>Store</th>\n",
       "      <th>StoreType</th>\n",
       "      <th>Assortment</th>\n",
       "      <th>CompetitionDistance</th>\n",
       "      <th>CompetitionOpenSinceMonth</th>\n",
       "      <th>CompetitionOpenSinceYear</th>\n",
       "      <th>Promo2</th>\n",
       "      <th>Promo2SinceWeek</th>\n",
       "      <th>Promo2SinceYear</th>\n",
       "      <th>PromoInterval</th>\n",
       "    </tr>\n",
       "  </thead>\n",
       "  <tbody>\n",
       "    <tr>\n",
       "      <th>0</th>\n",
       "      <td> 1</td>\n",
       "      <td> c</td>\n",
       "      <td> a</td>\n",
       "      <td>  1270</td>\n",
       "      <td>  9</td>\n",
       "      <td> 2008</td>\n",
       "      <td> 0</td>\n",
       "      <td> NaN</td>\n",
       "      <td>  NaN</td>\n",
       "      <td>             NaN</td>\n",
       "    </tr>\n",
       "    <tr>\n",
       "      <th>1</th>\n",
       "      <td> 2</td>\n",
       "      <td> a</td>\n",
       "      <td> a</td>\n",
       "      <td>   570</td>\n",
       "      <td> 11</td>\n",
       "      <td> 2007</td>\n",
       "      <td> 1</td>\n",
       "      <td>  13</td>\n",
       "      <td> 2010</td>\n",
       "      <td> Jan,Apr,Jul,Oct</td>\n",
       "    </tr>\n",
       "    <tr>\n",
       "      <th>2</th>\n",
       "      <td> 3</td>\n",
       "      <td> a</td>\n",
       "      <td> a</td>\n",
       "      <td> 14130</td>\n",
       "      <td> 12</td>\n",
       "      <td> 2006</td>\n",
       "      <td> 1</td>\n",
       "      <td>  14</td>\n",
       "      <td> 2011</td>\n",
       "      <td> Jan,Apr,Jul,Oct</td>\n",
       "    </tr>\n",
       "    <tr>\n",
       "      <th>3</th>\n",
       "      <td> 4</td>\n",
       "      <td> c</td>\n",
       "      <td> c</td>\n",
       "      <td>   620</td>\n",
       "      <td>  9</td>\n",
       "      <td> 2009</td>\n",
       "      <td> 0</td>\n",
       "      <td> NaN</td>\n",
       "      <td>  NaN</td>\n",
       "      <td>             NaN</td>\n",
       "    </tr>\n",
       "    <tr>\n",
       "      <th>4</th>\n",
       "      <td> 5</td>\n",
       "      <td> a</td>\n",
       "      <td> a</td>\n",
       "      <td> 29910</td>\n",
       "      <td>  4</td>\n",
       "      <td> 2015</td>\n",
       "      <td> 0</td>\n",
       "      <td> NaN</td>\n",
       "      <td>  NaN</td>\n",
       "      <td>             NaN</td>\n",
       "    </tr>\n",
       "  </tbody>\n",
       "</table>\n",
       "</div>"
      ],
      "text/plain": [
       "  Store StoreType Assortment CompetitionDistance CompetitionOpenSinceMonth  \\\n",
       "0     1         c          a                1270                         9   \n",
       "1     2         a          a                 570                        11   \n",
       "2     3         a          a               14130                        12   \n",
       "3     4         c          c                 620                         9   \n",
       "4     5         a          a               29910                         4   \n",
       "\n",
       "  CompetitionOpenSinceYear Promo2 Promo2SinceWeek Promo2SinceYear  \\\n",
       "0                     2008      0             NaN             NaN   \n",
       "1                     2007      1              13            2010   \n",
       "2                     2006      1              14            2011   \n",
       "3                     2009      0             NaN             NaN   \n",
       "4                     2015      0             NaN             NaN   \n",
       "\n",
       "     PromoInterval  \n",
       "0              NaN  \n",
       "1  Jan,Apr,Jul,Oct  \n",
       "2  Jan,Apr,Jul,Oct  \n",
       "3              NaN  \n",
       "4              NaN  "
      ]
     },
     "execution_count": 10,
     "metadata": {},
     "output_type": "execute_result"
    }
   ],
   "source": [
    "store.head()"
   ]
  },
  {
   "cell_type": "code",
   "execution_count": 11,
   "metadata": {
    "collapsed": false
   },
   "outputs": [
    {
     "data": {
      "text/html": [
       "<div style=\"max-height:1000px;max-width:1500px;overflow:auto;\">\n",
       "<table border=\"1\" class=\"dataframe\">\n",
       "  <thead>\n",
       "    <tr style=\"text-align: right;\">\n",
       "      <th></th>\n",
       "      <th>Id</th>\n",
       "      <th>Store</th>\n",
       "      <th>DayOfWeek</th>\n",
       "      <th>Date</th>\n",
       "      <th>Open</th>\n",
       "      <th>Promo</th>\n",
       "      <th>StateHoliday</th>\n",
       "      <th>SchoolHoliday</th>\n",
       "    </tr>\n",
       "  </thead>\n",
       "  <tbody>\n",
       "    <tr>\n",
       "      <th>0</th>\n",
       "      <td> 1</td>\n",
       "      <td> 1</td>\n",
       "      <td> 4</td>\n",
       "      <td> 2015-09-17</td>\n",
       "      <td> 1</td>\n",
       "      <td> 1</td>\n",
       "      <td> 0</td>\n",
       "      <td> 0</td>\n",
       "    </tr>\n",
       "    <tr>\n",
       "      <th>1</th>\n",
       "      <td> 2</td>\n",
       "      <td> 3</td>\n",
       "      <td> 4</td>\n",
       "      <td> 2015-09-17</td>\n",
       "      <td> 1</td>\n",
       "      <td> 1</td>\n",
       "      <td> 0</td>\n",
       "      <td> 0</td>\n",
       "    </tr>\n",
       "    <tr>\n",
       "      <th>2</th>\n",
       "      <td> 3</td>\n",
       "      <td> 7</td>\n",
       "      <td> 4</td>\n",
       "      <td> 2015-09-17</td>\n",
       "      <td> 1</td>\n",
       "      <td> 1</td>\n",
       "      <td> 0</td>\n",
       "      <td> 0</td>\n",
       "    </tr>\n",
       "    <tr>\n",
       "      <th>3</th>\n",
       "      <td> 4</td>\n",
       "      <td> 8</td>\n",
       "      <td> 4</td>\n",
       "      <td> 2015-09-17</td>\n",
       "      <td> 1</td>\n",
       "      <td> 1</td>\n",
       "      <td> 0</td>\n",
       "      <td> 0</td>\n",
       "    </tr>\n",
       "    <tr>\n",
       "      <th>4</th>\n",
       "      <td> 5</td>\n",
       "      <td> 9</td>\n",
       "      <td> 4</td>\n",
       "      <td> 2015-09-17</td>\n",
       "      <td> 1</td>\n",
       "      <td> 1</td>\n",
       "      <td> 0</td>\n",
       "      <td> 0</td>\n",
       "    </tr>\n",
       "  </tbody>\n",
       "</table>\n",
       "</div>"
      ],
      "text/plain": [
       "  Id Store DayOfWeek        Date Open Promo StateHoliday SchoolHoliday\n",
       "0  1     1         4  2015-09-17    1     1            0             0\n",
       "1  2     3         4  2015-09-17    1     1            0             0\n",
       "2  3     7         4  2015-09-17    1     1            0             0\n",
       "3  4     8         4  2015-09-17    1     1            0             0\n",
       "4  5     9         4  2015-09-17    1     1            0             0"
      ]
     },
     "execution_count": 11,
     "metadata": {},
     "output_type": "execute_result"
    }
   ],
   "source": [
    "test.head()"
   ]
  },
  {
   "cell_type": "code",
   "execution_count": 13,
   "metadata": {
    "collapsed": false
   },
   "outputs": [
    {
     "data": {
      "text/plain": [
       "((1017209, 9), (1115, 10), (41088, 8))"
      ]
     },
     "execution_count": 13,
     "metadata": {},
     "output_type": "execute_result"
    }
   ],
   "source": [
    "train.shape, store.shape, test.shape"
   ]
  },
  {
   "cell_type": "code",
   "execution_count": 24,
   "metadata": {
    "collapsed": false
   },
   "outputs": [],
   "source": [
    "# Drop the rows of data which open is zero.\n",
    "train = train.loc[train['Open'] != '0']"
   ]
  },
  {
   "cell_type": "code",
   "execution_count": 25,
   "metadata": {
    "collapsed": false
   },
   "outputs": [
    {
     "data": {
      "text/plain": [
       "(844392, 9)"
      ]
     },
     "execution_count": 25,
     "metadata": {},
     "output_type": "execute_result"
    }
   ],
   "source": [
    "train.shape"
   ]
  },
  {
   "cell_type": "code",
   "execution_count": 27,
   "metadata": {
    "collapsed": false
   },
   "outputs": [
    {
     "data": {
      "text/html": [
       "<div style=\"max-height:1000px;max-width:1500px;overflow:auto;\">\n",
       "<table border=\"1\" class=\"dataframe\">\n",
       "  <thead>\n",
       "    <tr style=\"text-align: right;\">\n",
       "      <th></th>\n",
       "      <th>Store</th>\n",
       "      <th>DayOfWeek</th>\n",
       "      <th>Date</th>\n",
       "      <th>Sales</th>\n",
       "      <th>Customers</th>\n",
       "      <th>Open</th>\n",
       "      <th>Promo</th>\n",
       "      <th>StateHoliday</th>\n",
       "      <th>SchoolHoliday</th>\n",
       "    </tr>\n",
       "  </thead>\n",
       "  <tbody>\n",
       "    <tr>\n",
       "      <th>count</th>\n",
       "      <td> 844392</td>\n",
       "      <td> 844392</td>\n",
       "      <td>     844392</td>\n",
       "      <td> 844392</td>\n",
       "      <td> 844392</td>\n",
       "      <td> 844392</td>\n",
       "      <td> 844392</td>\n",
       "      <td> 844392</td>\n",
       "      <td> 844392</td>\n",
       "    </tr>\n",
       "    <tr>\n",
       "      <th>unique</th>\n",
       "      <td>   1115</td>\n",
       "      <td>      7</td>\n",
       "      <td>        942</td>\n",
       "      <td>  21734</td>\n",
       "      <td>   4086</td>\n",
       "      <td>      1</td>\n",
       "      <td>      2</td>\n",
       "      <td>      4</td>\n",
       "      <td>      2</td>\n",
       "    </tr>\n",
       "    <tr>\n",
       "      <th>top</th>\n",
       "      <td>    682</td>\n",
       "      <td>      6</td>\n",
       "      <td> 2013-10-15</td>\n",
       "      <td>   5674</td>\n",
       "      <td>    560</td>\n",
       "      <td>      1</td>\n",
       "      <td>      0</td>\n",
       "      <td>      0</td>\n",
       "      <td>      0</td>\n",
       "    </tr>\n",
       "    <tr>\n",
       "      <th>freq</th>\n",
       "      <td>    942</td>\n",
       "      <td> 144058</td>\n",
       "      <td>       1115</td>\n",
       "      <td>    215</td>\n",
       "      <td>   2414</td>\n",
       "      <td> 844392</td>\n",
       "      <td> 467496</td>\n",
       "      <td> 843482</td>\n",
       "      <td> 680935</td>\n",
       "    </tr>\n",
       "  </tbody>\n",
       "</table>\n",
       "</div>"
      ],
      "text/plain": [
       "         Store DayOfWeek        Date   Sales Customers    Open   Promo  \\\n",
       "count   844392    844392      844392  844392    844392  844392  844392   \n",
       "unique    1115         7         942   21734      4086       1       2   \n",
       "top        682         6  2013-10-15    5674       560       1       0   \n",
       "freq       942    144058        1115     215      2414  844392  467496   \n",
       "\n",
       "       StateHoliday SchoolHoliday  \n",
       "count        844392        844392  \n",
       "unique            4             2  \n",
       "top               0             0  \n",
       "freq         843482        680935  "
      ]
     },
     "execution_count": 27,
     "metadata": {},
     "output_type": "execute_result"
    }
   ],
   "source": [
    "train.describe()"
   ]
  },
  {
   "cell_type": "code",
   "execution_count": 28,
   "metadata": {
    "collapsed": false,
    "scrolled": true
   },
   "outputs": [
    {
     "data": {
      "text/html": [
       "<div style=\"max-height:1000px;max-width:1500px;overflow:auto;\">\n",
       "<table border=\"1\" class=\"dataframe\">\n",
       "  <thead>\n",
       "    <tr style=\"text-align: right;\">\n",
       "      <th></th>\n",
       "      <th>Store</th>\n",
       "      <th>StoreType</th>\n",
       "      <th>Assortment</th>\n",
       "      <th>CompetitionDistance</th>\n",
       "      <th>CompetitionOpenSinceMonth</th>\n",
       "      <th>CompetitionOpenSinceYear</th>\n",
       "      <th>Promo2</th>\n",
       "      <th>Promo2SinceWeek</th>\n",
       "      <th>Promo2SinceYear</th>\n",
       "      <th>PromoInterval</th>\n",
       "    </tr>\n",
       "  </thead>\n",
       "  <tbody>\n",
       "    <tr>\n",
       "      <th>count</th>\n",
       "      <td> 1115</td>\n",
       "      <td> 1115</td>\n",
       "      <td> 1115</td>\n",
       "      <td> 1112</td>\n",
       "      <td> 761</td>\n",
       "      <td>  761</td>\n",
       "      <td> 1115</td>\n",
       "      <td> 571</td>\n",
       "      <td>  571</td>\n",
       "      <td>             571</td>\n",
       "    </tr>\n",
       "    <tr>\n",
       "      <th>unique</th>\n",
       "      <td> 1115</td>\n",
       "      <td>    4</td>\n",
       "      <td>    3</td>\n",
       "      <td>  654</td>\n",
       "      <td>  12</td>\n",
       "      <td>   23</td>\n",
       "      <td>    2</td>\n",
       "      <td>  24</td>\n",
       "      <td>    7</td>\n",
       "      <td>               3</td>\n",
       "    </tr>\n",
       "    <tr>\n",
       "      <th>top</th>\n",
       "      <td>  823</td>\n",
       "      <td>    a</td>\n",
       "      <td>    a</td>\n",
       "      <td>  250</td>\n",
       "      <td>   9</td>\n",
       "      <td> 2013</td>\n",
       "      <td>    1</td>\n",
       "      <td>  14</td>\n",
       "      <td> 2011</td>\n",
       "      <td> Jan,Apr,Jul,Oct</td>\n",
       "    </tr>\n",
       "    <tr>\n",
       "      <th>freq</th>\n",
       "      <td>    1</td>\n",
       "      <td>  602</td>\n",
       "      <td>  593</td>\n",
       "      <td>   12</td>\n",
       "      <td> 125</td>\n",
       "      <td>   83</td>\n",
       "      <td>  571</td>\n",
       "      <td>  81</td>\n",
       "      <td>  128</td>\n",
       "      <td>             335</td>\n",
       "    </tr>\n",
       "  </tbody>\n",
       "</table>\n",
       "</div>"
      ],
      "text/plain": [
       "       Store StoreType Assortment CompetitionDistance  \\\n",
       "count   1115      1115       1115                1112   \n",
       "unique  1115         4          3                 654   \n",
       "top      823         a          a                 250   \n",
       "freq       1       602        593                  12   \n",
       "\n",
       "       CompetitionOpenSinceMonth CompetitionOpenSinceYear Promo2  \\\n",
       "count                        761                      761   1115   \n",
       "unique                        12                       23      2   \n",
       "top                            9                     2013      1   \n",
       "freq                         125                       83    571   \n",
       "\n",
       "       Promo2SinceWeek Promo2SinceYear    PromoInterval  \n",
       "count              571             571              571  \n",
       "unique              24               7                3  \n",
       "top                 14            2011  Jan,Apr,Jul,Oct  \n",
       "freq                81             128              335  "
      ]
     },
     "execution_count": 28,
     "metadata": {},
     "output_type": "execute_result"
    }
   ],
   "source": [
    "store.describe()"
   ]
  },
  {
   "cell_type": "code",
   "execution_count": null,
   "metadata": {
    "collapsed": true
   },
   "outputs": [],
   "source": []
  }
 ],
 "metadata": {
  "kernelspec": {
   "display_name": "Python 2",
   "language": "python",
   "name": "python2"
  },
  "language_info": {
   "codemirror_mode": {
    "name": "ipython",
    "version": 2
   },
   "file_extension": ".py",
   "mimetype": "text/x-python",
   "name": "python",
   "nbconvert_exporter": "python",
   "pygments_lexer": "ipython2",
   "version": "2.7.8"
  }
 },
 "nbformat": 4,
 "nbformat_minor": 0
}
